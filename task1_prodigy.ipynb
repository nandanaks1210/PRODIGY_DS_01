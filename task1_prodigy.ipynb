{
 "cells": [
  {
   "cell_type": "markdown",
   "id": "c9717b0e",
   "metadata": {},
   "source": [
    "# TASK 1"
   ]
  },
  {
   "cell_type": "markdown",
   "id": "3bc72ac1",
   "metadata": {},
   "source": [
    "# Objective: Create a bar chart or a histogram to visualize the distribution of a categorical or a continuous variable, such as the distribution of age or genders in a population."
   ]
  },
  {
   "cell_type": "markdown",
   "id": "5e333dc5",
   "metadata": {},
   "source": [
    "# Bar chart to visualize the distribution of a categorical variable"
   ]
  },
  {
   "cell_type": "markdown",
   "id": "e358b7a9",
   "metadata": {},
   "source": [
    "Importing all the necessary libraries"
   ]
  },
  {
   "cell_type": "code",
   "execution_count": 2,
   "id": "7517d688",
   "metadata": {},
   "outputs": [],
   "source": [
    "import numpy as np\n",
    "import pandas as pd\n",
    "import matplotlib.pyplot as plt"
   ]
  },
  {
   "cell_type": "markdown",
   "id": "ea16b922",
   "metadata": {},
   "source": [
    "A sales data set is imported."
   ]
  },
  {
   "cell_type": "code",
   "execution_count": 3,
   "id": "901d819d",
   "metadata": {},
   "outputs": [
    {
     "data": {
      "text/html": [
       "<div>\n",
       "<style scoped>\n",
       "    .dataframe tbody tr th:only-of-type {\n",
       "        vertical-align: middle;\n",
       "    }\n",
       "\n",
       "    .dataframe tbody tr th {\n",
       "        vertical-align: top;\n",
       "    }\n",
       "\n",
       "    .dataframe thead th {\n",
       "        text-align: right;\n",
       "    }\n",
       "</style>\n",
       "<table border=\"1\" class=\"dataframe\">\n",
       "  <thead>\n",
       "    <tr style=\"text-align: right;\">\n",
       "      <th></th>\n",
       "      <th>Order ID</th>\n",
       "      <th>Product ID</th>\n",
       "      <th>Product Category</th>\n",
       "      <th>Quantity</th>\n",
       "      <th>Unit Price</th>\n",
       "      <th>Total Price</th>\n",
       "      <th>Order Date</th>\n",
       "      <th>Customer ID</th>\n",
       "      <th>Payment Type</th>\n",
       "      <th>Order Status</th>\n",
       "    </tr>\n",
       "  </thead>\n",
       "  <tbody>\n",
       "    <tr>\n",
       "      <th>0</th>\n",
       "      <td>873ff350-854d-4bd8-aebf-6cc5e1a6d3b7</td>\n",
       "      <td>26ab320e-62f2-4203-be68-f8740085d796</td>\n",
       "      <td>Sports &amp; Outdoors</td>\n",
       "      <td>4</td>\n",
       "      <td>154.050509</td>\n",
       "      <td>616.202036</td>\n",
       "      <td>2023-08-02</td>\n",
       "      <td>292fe8cf-4d60-437b-8488-4c225e84d48d</td>\n",
       "      <td>Credit Card</td>\n",
       "      <td>Completed</td>\n",
       "    </tr>\n",
       "    <tr>\n",
       "      <th>1</th>\n",
       "      <td>7cb2641e-ea6b-4faf-a7ab-24992d5573fa</td>\n",
       "      <td>8c0d7ba9-1e6b-412a-8359-97d964ad19e5</td>\n",
       "      <td>Home &amp; Kitchen</td>\n",
       "      <td>5</td>\n",
       "      <td>275.539908</td>\n",
       "      <td>1377.699538</td>\n",
       "      <td>2023-09-03</td>\n",
       "      <td>a026178d-e3ed-4d45-a49c-8336479b2114</td>\n",
       "      <td>PayPal</td>\n",
       "      <td>Refunded</td>\n",
       "    </tr>\n",
       "    <tr>\n",
       "      <th>2</th>\n",
       "      <td>94e0de8a-419d-46e1-9e7c-65c730b89c65</td>\n",
       "      <td>5d65b6c7-1894-4207-b7e3-b53cc2d5e5e3</td>\n",
       "      <td>Beauty &amp; Health</td>\n",
       "      <td>3</td>\n",
       "      <td>56.410098</td>\n",
       "      <td>169.230294</td>\n",
       "      <td>2023-12-06</td>\n",
       "      <td>808e8010-1552-42dd-a9c5-eacd4fde3283</td>\n",
       "      <td>Debit Card</td>\n",
       "      <td>Cancelled</td>\n",
       "    </tr>\n",
       "    <tr>\n",
       "      <th>3</th>\n",
       "      <td>88cc8ccf-f018-46ac-ba3b-f36b5cf4e429</td>\n",
       "      <td>b3f6c6a5-d3cb-49a4-b53b-3996be815c28</td>\n",
       "      <td>Books</td>\n",
       "      <td>2</td>\n",
       "      <td>176.410906</td>\n",
       "      <td>352.821812</td>\n",
       "      <td>2023-07-22</td>\n",
       "      <td>6184896b-4fb2-4ae0-9851-65033dae1319</td>\n",
       "      <td>PayPal</td>\n",
       "      <td>Pending</td>\n",
       "    </tr>\n",
       "    <tr>\n",
       "      <th>4</th>\n",
       "      <td>eb520575-720e-456e-9dc5-c2c3bb887bfc</td>\n",
       "      <td>fed52dbf-49c6-4128-8b18-c36e50184a04</td>\n",
       "      <td>Electronics</td>\n",
       "      <td>3</td>\n",
       "      <td>409.892144</td>\n",
       "      <td>1229.676431</td>\n",
       "      <td>2023-04-08</td>\n",
       "      <td>24689017-68fc-42ba-8ae6-f0ad7155e0d6</td>\n",
       "      <td>Credit Card</td>\n",
       "      <td>Cancelled</td>\n",
       "    </tr>\n",
       "  </tbody>\n",
       "</table>\n",
       "</div>"
      ],
      "text/plain": [
       "                               Order ID                            Product ID  \\\n",
       "0  873ff350-854d-4bd8-aebf-6cc5e1a6d3b7  26ab320e-62f2-4203-be68-f8740085d796   \n",
       "1  7cb2641e-ea6b-4faf-a7ab-24992d5573fa  8c0d7ba9-1e6b-412a-8359-97d964ad19e5   \n",
       "2  94e0de8a-419d-46e1-9e7c-65c730b89c65  5d65b6c7-1894-4207-b7e3-b53cc2d5e5e3   \n",
       "3  88cc8ccf-f018-46ac-ba3b-f36b5cf4e429  b3f6c6a5-d3cb-49a4-b53b-3996be815c28   \n",
       "4  eb520575-720e-456e-9dc5-c2c3bb887bfc  fed52dbf-49c6-4128-8b18-c36e50184a04   \n",
       "\n",
       "    Product Category  Quantity  Unit Price  Total Price  Order Date  \\\n",
       "0  Sports & Outdoors         4  154.050509   616.202036  2023-08-02   \n",
       "1     Home & Kitchen         5  275.539908  1377.699538  2023-09-03   \n",
       "2    Beauty & Health         3   56.410098   169.230294  2023-12-06   \n",
       "3              Books         2  176.410906   352.821812  2023-07-22   \n",
       "4        Electronics         3  409.892144  1229.676431  2023-04-08   \n",
       "\n",
       "                            Customer ID Payment Type Order Status  \n",
       "0  292fe8cf-4d60-437b-8488-4c225e84d48d  Credit Card    Completed  \n",
       "1  a026178d-e3ed-4d45-a49c-8336479b2114       PayPal     Refunded  \n",
       "2  808e8010-1552-42dd-a9c5-eacd4fde3283   Debit Card    Cancelled  \n",
       "3  6184896b-4fb2-4ae0-9851-65033dae1319       PayPal      Pending  \n",
       "4  24689017-68fc-42ba-8ae6-f0ad7155e0d6  Credit Card    Cancelled  "
      ]
     },
     "execution_count": 3,
     "metadata": {},
     "output_type": "execute_result"
    }
   ],
   "source": [
    "import pandas as pd\n",
    "df=pd.read_csv(\"sales.csv\")\n",
    "df.head()"
   ]
  },
  {
   "cell_type": "markdown",
   "id": "647e48be",
   "metadata": {},
   "source": [
    "Let's display the information about the data set. It specifies whether there are null values present, what the data types of each column are etc."
   ]
  },
  {
   "cell_type": "code",
   "execution_count": 4,
   "id": "86dcf7be",
   "metadata": {},
   "outputs": [
    {
     "name": "stdout",
     "output_type": "stream",
     "text": [
      "<class 'pandas.core.frame.DataFrame'>\n",
      "RangeIndex: 10000 entries, 0 to 9999\n",
      "Data columns (total 10 columns):\n",
      " #   Column            Non-Null Count  Dtype  \n",
      "---  ------            --------------  -----  \n",
      " 0   Order ID          10000 non-null  object \n",
      " 1   Product ID        10000 non-null  object \n",
      " 2   Product Category  10000 non-null  object \n",
      " 3   Quantity          10000 non-null  int64  \n",
      " 4   Unit Price        10000 non-null  float64\n",
      " 5   Total Price       10000 non-null  float64\n",
      " 6   Order Date        10000 non-null  object \n",
      " 7   Customer ID       10000 non-null  object \n",
      " 8   Payment Type      10000 non-null  object \n",
      " 9   Order Status      10000 non-null  object \n",
      "dtypes: float64(2), int64(1), object(7)\n",
      "memory usage: 781.4+ KB\n"
     ]
    }
   ],
   "source": [
    "data=df\n",
    "data.info()"
   ]
  },
  {
   "cell_type": "markdown",
   "id": "e17e604d",
   "metadata": {},
   "source": [
    "Here, we are grouping the quantities by their respective categories."
   ]
  },
  {
   "cell_type": "code",
   "execution_count": 5,
   "id": "98808eab",
   "metadata": {},
   "outputs": [
    {
     "data": {
      "text/plain": [
       "Product Category\n",
       "Beauty & Health      4772\n",
       "Books                4888\n",
       "Clothing             5121\n",
       "Electronics          5077\n",
       "Home & Kitchen       5049\n",
       "Sports & Outdoors    5190\n",
       "Name: Quantity, dtype: int64"
      ]
     },
     "execution_count": 5,
     "metadata": {},
     "output_type": "execute_result"
    }
   ],
   "source": [
    "category_totals=data.groupby('Product Category')['Quantity'].sum()\n",
    "category_totals"
   ]
  },
  {
   "cell_type": "markdown",
   "id": "217f3b66",
   "metadata": {},
   "source": [
    "Let's now plot a bar chart to visualize the distribution of product quantities with respect to the product categories."
   ]
  },
  {
   "cell_type": "code",
   "execution_count": 6,
   "id": "23d61253",
   "metadata": {},
   "outputs": [
    {
     "data": {
      "image/png": "[encoded data removed]",
      "text/plain": [
       "<Figure size 640x480 with 1 Axes>"
      ]
     },
     "metadata": {},
     "output_type": "display_data"
    }
   ],
   "source": [
    "categories = ['Beauty & Health', 'Books', 'Clothing', 'Electronics', 'Home & Kitchen', 'Sports & Outdoors']\n",
    "totals =category_totals\n",
    "plt.bar(categories, totals, color='yellow',edgecolor='purple',alpha=0.7)\n",
    "plt.xlabel('Product Category')\n",
    "plt.ylabel('Total Quantity')\n",
    "plt.title('Total Quantity by Product Category')\n",
    "plt.xticks(rotation=45)\n",
    "plt.ylim(bottom=(min(totals)-200), top=(max(totals)+200), emit=200)\n",
    "plt.show()"
   ]
  },
  {
   "cell_type": "markdown",
   "id": "3f3af363",
   "metadata": {},
   "source": [
    "From the plot, we can interpret that the most number of products ordered were from the Sports & Outdoors category, followed by clothing."
   ]
  },
  {
   "cell_type": "markdown",
   "id": "e117c6e4",
   "metadata": {},
   "source": [
    "# Histogram to visualize the distribution of a continuous variable "
   ]
  },
  {
   "cell_type": "markdown",
   "id": "d03e0e7d",
   "metadata": {},
   "source": [
    "Next, we import another data set to plot a histogram to visualize the distribution of a continuous variable"
   ]
  },
  {
   "cell_type": "code",
   "execution_count": 7,
   "id": "6cb34b75",
   "metadata": {},
   "outputs": [
    {
     "data": {
      "text/html": [
       "<div>\n",
       "<style scoped>\n",
       "    .dataframe tbody tr th:only-of-type {\n",
       "        vertical-align: middle;\n",
       "    }\n",
       "\n",
       "    .dataframe tbody tr th {\n",
       "        vertical-align: top;\n",
       "    }\n",
       "\n",
       "    .dataframe thead th {\n",
       "        text-align: right;\n",
       "    }\n",
       "</style>\n",
       "<table border=\"1\" class=\"dataframe\">\n",
       "  <thead>\n",
       "    <tr style=\"text-align: right;\">\n",
       "      <th></th>\n",
       "      <th>product_id</th>\n",
       "      <th>product_name</th>\n",
       "      <th>category</th>\n",
       "      <th>discounted_price</th>\n",
       "      <th>actual_price</th>\n",
       "      <th>discount_percentage</th>\n",
       "      <th>rating</th>\n",
       "      <th>rating_count</th>\n",
       "      <th>about_product</th>\n",
       "      <th>user_id</th>\n",
       "      <th>user_name</th>\n",
       "      <th>review_id</th>\n",
       "      <th>review_title</th>\n",
       "      <th>review_content</th>\n",
       "      <th>img_link</th>\n",
       "      <th>product_link</th>\n",
       "    </tr>\n",
       "  </thead>\n",
       "  <tbody>\n",
       "    <tr>\n",
       "      <th>0</th>\n",
       "      <td>B07JW9H4J1</td>\n",
       "      <td>Wayona Nylon Braided USB to Lightning Fast Cha...</td>\n",
       "      <td>Computers&amp;Accessories|Accessories&amp;Peripherals|...</td>\n",
       "      <td>₹399</td>\n",
       "      <td>₹1,099</td>\n",
       "      <td>64%</td>\n",
       "      <td>4.2</td>\n",
       "      <td>24,269</td>\n",
       "      <td>High Compatibility : Compatible With iPhone 12...</td>\n",
       "      <td>AG3D6O4STAQKAY2UVGEUV46KN35Q,AHMY5CWJMMK5BJRBB...</td>\n",
       "      <td>Manav,Adarsh gupta,Sundeep,S.Sayeed Ahmed,jasp...</td>\n",
       "      <td>R3HXWT0LRP0NMF,R2AJM3LFTLZHFO,R6AQJGUP6P86,R1K...</td>\n",
       "      <td>Satisfied,Charging is really fast,Value for mo...</td>\n",
       "      <td>Looks durable Charging is fine tooNo complains...</td>\n",
       "      <td>https://m.media-amazon.com/images/W/WEBP_40237...</td>\n",
       "      <td>https://www.amazon.in/Wayona-Braided-WN3LG1-Sy...</td>\n",
       "    </tr>\n",
       "    <tr>\n",
       "      <th>1</th>\n",
       "      <td>B098NS6PVG</td>\n",
       "      <td>Ambrane Unbreakable 60W / 3A Fast Charging 1.5...</td>\n",
       "      <td>Computers&amp;Accessories|Accessories&amp;Peripherals|...</td>\n",
       "      <td>₹199</td>\n",
       "      <td>₹349</td>\n",
       "      <td>43%</td>\n",
       "      <td>4.0</td>\n",
       "      <td>43,994</td>\n",
       "      <td>Compatible with all Type C enabled devices, be...</td>\n",
       "      <td>AECPFYFQVRUWC3KGNLJIOREFP5LQ,AGYYVPDD7YG7FYNBX...</td>\n",
       "      <td>ArdKn,Nirbhay kumar,Sagar Viswanathan,Asp,Plac...</td>\n",
       "      <td>RGIQEG07R9HS2,R1SMWZQ86XIN8U,R2J3Y1WL29GWDE,RY...</td>\n",
       "      <td>A Good Braided Cable for Your Type C Device,Go...</td>\n",
       "      <td>I ordered this cable to connect my phone to An...</td>\n",
       "      <td>https://m.media-amazon.com/images/W/WEBP_40237...</td>\n",
       "      <td>https://www.amazon.in/Ambrane-Unbreakable-Char...</td>\n",
       "    </tr>\n",
       "    <tr>\n",
       "      <th>2</th>\n",
       "      <td>B096MSW6CT</td>\n",
       "      <td>Sounce Fast Phone Charging Cable &amp; Data Sync U...</td>\n",
       "      <td>Computers&amp;Accessories|Accessories&amp;Peripherals|...</td>\n",
       "      <td>₹199</td>\n",
       "      <td>₹1,899</td>\n",
       "      <td>90%</td>\n",
       "      <td>3.9</td>\n",
       "      <td>7,928</td>\n",
       "      <td>【 Fast Charger&amp; Data Sync】-With built-in safet...</td>\n",
       "      <td>AGU3BBQ2V2DDAMOAKGFAWDDQ6QHA,AESFLDV2PT363T2AQ...</td>\n",
       "      <td>Kunal,Himanshu,viswanath,sai niharka,saqib mal...</td>\n",
       "      <td>R3J3EQQ9TZI5ZJ,R3E7WBGK7ID0KV,RWU79XKQ6I1QF,R2...</td>\n",
       "      <td>Good speed for earlier versions,Good Product,W...</td>\n",
       "      <td>Not quite durable and sturdy,https://m.media-a...</td>\n",
       "      <td>https://m.media-amazon.com/images/W/WEBP_40237...</td>\n",
       "      <td>https://www.amazon.in/Sounce-iPhone-Charging-C...</td>\n",
       "    </tr>\n",
       "    <tr>\n",
       "      <th>3</th>\n",
       "      <td>B08HDJ86NZ</td>\n",
       "      <td>boAt Deuce USB 300 2 in 1 Type-C &amp; Micro USB S...</td>\n",
       "      <td>Computers&amp;Accessories|Accessories&amp;Peripherals|...</td>\n",
       "      <td>₹329</td>\n",
       "      <td>₹699</td>\n",
       "      <td>53%</td>\n",
       "      <td>4.2</td>\n",
       "      <td>94,363</td>\n",
       "      <td>The boAt Deuce USB 300 2 in 1 cable is compati...</td>\n",
       "      <td>AEWAZDZZJLQUYVOVGBEUKSLXHQ5A,AG5HTSFRRE6NL3M5S...</td>\n",
       "      <td>Omkar dhale,JD,HEMALATHA,Ajwadh a.,amar singh ...</td>\n",
       "      <td>R3EEUZKKK9J36I,R3HJVYCLYOY554,REDECAZ7AMPQC,R1...</td>\n",
       "      <td>Good product,Good one,Nice,Really nice product...</td>\n",
       "      <td>Good product,long wire,Charges good,Nice,I bou...</td>\n",
       "      <td>https://m.media-amazon.com/images/I/41V5FtEWPk...</td>\n",
       "      <td>https://www.amazon.in/Deuce-300-Resistant-Tang...</td>\n",
       "    </tr>\n",
       "    <tr>\n",
       "      <th>4</th>\n",
       "      <td>B08CF3B7N1</td>\n",
       "      <td>Portronics Konnect L 1.2M Fast Charging 3A 8 P...</td>\n",
       "      <td>Computers&amp;Accessories|Accessories&amp;Peripherals|...</td>\n",
       "      <td>₹154</td>\n",
       "      <td>₹399</td>\n",
       "      <td>61%</td>\n",
       "      <td>4.2</td>\n",
       "      <td>16,905</td>\n",
       "      <td>[CHARGE &amp; SYNC FUNCTION]- This cable comes wit...</td>\n",
       "      <td>AE3Q6KSUK5P75D5HFYHCRAOLODSA,AFUGIFH5ZAFXRDSZH...</td>\n",
       "      <td>rahuls6099,Swasat Borah,Ajay Wadke,Pranali,RVK...</td>\n",
       "      <td>R1BP4L2HH9TFUP,R16PVJEXKV6QZS,R2UPDB81N66T4P,R...</td>\n",
       "      <td>As good as original,Decent,Good one for second...</td>\n",
       "      <td>Bought this instead of original apple, does th...</td>\n",
       "      <td>https://m.media-amazon.com/images/W/WEBP_40237...</td>\n",
       "      <td>https://www.amazon.in/Portronics-Konnect-POR-1...</td>\n",
       "    </tr>\n",
       "  </tbody>\n",
       "</table>\n",
       "</div>"
      ],
      "text/plain": [
       "   product_id                                       product_name  \\\n",
       "0  B07JW9H4J1  Wayona Nylon Braided USB to Lightning Fast Cha...   \n",
       "1  B098NS6PVG  Ambrane Unbreakable 60W / 3A Fast Charging 1.5...   \n",
       "2  B096MSW6CT  Sounce Fast Phone Charging Cable & Data Sync U...   \n",
       "3  B08HDJ86NZ  boAt Deuce USB 300 2 in 1 Type-C & Micro USB S...   \n",
       "4  B08CF3B7N1  Portronics Konnect L 1.2M Fast Charging 3A 8 P...   \n",
       "\n",
       "                                            category discounted_price  \\\n",
       "0  Computers&Accessories|Accessories&Peripherals|...             ₹399   \n",
       "1  Computers&Accessories|Accessories&Peripherals|...             ₹199   \n",
       "2  Computers&Accessories|Accessories&Peripherals|...             ₹199   \n",
       "3  Computers&Accessories|Accessories&Peripherals|...             ₹329   \n",
       "4  Computers&Accessories|Accessories&Peripherals|...             ₹154   \n",
       "\n",
       "  actual_price discount_percentage rating rating_count  \\\n",
       "0       ₹1,099                 64%    4.2       24,269   \n",
       "1         ₹349                 43%    4.0       43,994   \n",
       "2       ₹1,899                 90%    3.9        7,928   \n",
       "3         ₹699                 53%    4.2       94,363   \n",
       "4         ₹399                 61%    4.2       16,905   \n",
       "\n",
       "                                       about_product  \\\n",
       "0  High Compatibility : Compatible With iPhone 12...   \n",
       "1  Compatible with all Type C enabled devices, be...   \n",
       "2  【 Fast Charger& Data Sync】-With built-in safet...   \n",
       "3  The boAt Deuce USB 300 2 in 1 cable is compati...   \n",
       "4  [CHARGE & SYNC FUNCTION]- This cable comes wit...   \n",
       "\n",
       "                                             user_id  \\\n",
       "0  AG3D6O4STAQKAY2UVGEUV46KN35Q,AHMY5CWJMMK5BJRBB...   \n",
       "1  AECPFYFQVRUWC3KGNLJIOREFP5LQ,AGYYVPDD7YG7FYNBX...   \n",
       "2  AGU3BBQ2V2DDAMOAKGFAWDDQ6QHA,AESFLDV2PT363T2AQ...   \n",
       "3  AEWAZDZZJLQUYVOVGBEUKSLXHQ5A,AG5HTSFRRE6NL3M5S...   \n",
       "4  AE3Q6KSUK5P75D5HFYHCRAOLODSA,AFUGIFH5ZAFXRDSZH...   \n",
       "\n",
       "                                           user_name  \\\n",
       "0  Manav,Adarsh gupta,Sundeep,S.Sayeed Ahmed,jasp...   \n",
       "1  ArdKn,Nirbhay kumar,Sagar Viswanathan,Asp,Plac...   \n",
       "2  Kunal,Himanshu,viswanath,sai niharka,saqib mal...   \n",
       "3  Omkar dhale,JD,HEMALATHA,Ajwadh a.,amar singh ...   \n",
       "4  rahuls6099,Swasat Borah,Ajay Wadke,Pranali,RVK...   \n",
       "\n",
       "                                           review_id  \\\n",
       "0  R3HXWT0LRP0NMF,R2AJM3LFTLZHFO,R6AQJGUP6P86,R1K...   \n",
       "1  RGIQEG07R9HS2,R1SMWZQ86XIN8U,R2J3Y1WL29GWDE,RY...   \n",
       "2  R3J3EQQ9TZI5ZJ,R3E7WBGK7ID0KV,RWU79XKQ6I1QF,R2...   \n",
       "3  R3EEUZKKK9J36I,R3HJVYCLYOY554,REDECAZ7AMPQC,R1...   \n",
       "4  R1BP4L2HH9TFUP,R16PVJEXKV6QZS,R2UPDB81N66T4P,R...   \n",
       "\n",
       "                                        review_title  \\\n",
       "0  Satisfied,Charging is really fast,Value for mo...   \n",
       "1  A Good Braided Cable for Your Type C Device,Go...   \n",
       "2  Good speed for earlier versions,Good Product,W...   \n",
       "3  Good product,Good one,Nice,Really nice product...   \n",
       "4  As good as original,Decent,Good one for second...   \n",
       "\n",
       "                                      review_content  \\\n",
       "0  Looks durable Charging is fine tooNo complains...   \n",
       "1  I ordered this cable to connect my phone to An...   \n",
       "2  Not quite durable and sturdy,https://m.media-a...   \n",
       "3  Good product,long wire,Charges good,Nice,I bou...   \n",
       "4  Bought this instead of original apple, does th...   \n",
       "\n",
       "                                            img_link  \\\n",
       "0  https://m.media-amazon.com/images/W/WEBP_40237...   \n",
       "1  https://m.media-amazon.com/images/W/WEBP_40237...   \n",
       "2  https://m.media-amazon.com/images/W/WEBP_40237...   \n",
       "3  https://m.media-amazon.com/images/I/41V5FtEWPk...   \n",
       "4  https://m.media-amazon.com/images/W/WEBP_40237...   \n",
       "\n",
       "                                        product_link  \n",
       "0  https://www.amazon.in/Wayona-Braided-WN3LG1-Sy...  \n",
       "1  https://www.amazon.in/Ambrane-Unbreakable-Char...  \n",
       "2  https://www.amazon.in/Sounce-iPhone-Charging-C...  \n",
       "3  https://www.amazon.in/Deuce-300-Resistant-Tang...  \n",
       "4  https://www.amazon.in/Portronics-Konnect-POR-1...  "
      ]
     },
     "execution_count": 7,
     "metadata": {},
     "output_type": "execute_result"
    }
   ],
   "source": [
    "import pandas as pd\n",
    "df=pd.read_csv(\"amazon.csv\")\n",
    "df.head()"
   ]
  },
  {
   "cell_type": "markdown",
   "id": "2ce3b8f6",
   "metadata": {},
   "source": [
    "Here, we extract information about the data set."
   ]
  },
  {
   "cell_type": "code",
   "execution_count": 8,
   "id": "982dc1d1",
   "metadata": {},
   "outputs": [
    {
     "name": "stdout",
     "output_type": "stream",
     "text": [
      "<class 'pandas.core.frame.DataFrame'>\n",
      "RangeIndex: 1465 entries, 0 to 1464\n",
      "Data columns (total 16 columns):\n",
      " #   Column               Non-Null Count  Dtype \n",
      "---  ------               --------------  ----- \n",
      " 0   product_id           1465 non-null   object\n",
      " 1   product_name         1465 non-null   object\n",
      " 2   category             1465 non-null   object\n",
      " 3   discounted_price     1465 non-null   object\n",
      " 4   actual_price         1465 non-null   object\n",
      " 5   discount_percentage  1465 non-null   object\n",
      " 6   rating               1465 non-null   object\n",
      " 7   rating_count         1463 non-null   object\n",
      " 8   about_product        1465 non-null   object\n",
      " 9   user_id              1465 non-null   object\n",
      " 10  user_name            1465 non-null   object\n",
      " 11  review_id            1465 non-null   object\n",
      " 12  review_title         1465 non-null   object\n",
      " 13  review_content       1465 non-null   object\n",
      " 14  img_link             1465 non-null   object\n",
      " 15  product_link         1465 non-null   object\n",
      "dtypes: object(16)\n",
      "memory usage: 183.3+ KB\n"
     ]
    }
   ],
   "source": [
    "df.info()"
   ]
  },
  {
   "cell_type": "markdown",
   "id": "7ee10634",
   "metadata": {},
   "source": [
    "By taking a sample from the total population, we convert the data type of the column 'rating' to float, so that we can visualize it using histogram."
   ]
  },
  {
   "cell_type": "code",
   "execution_count": 9,
   "id": "50f92882",
   "metadata": {},
   "outputs": [],
   "source": [
    "mydata=df[0:400]\n",
    "data= mydata['rating'].astype(float)"
   ]
  },
  {
   "cell_type": "markdown",
   "id": "62133203",
   "metadata": {},
   "source": [
    "Let us now plot the histogram."
   ]
  },
  {
   "cell_type": "code",
   "execution_count": 10,
   "id": "12e26e00",
   "metadata": {},
   "outputs": [
    {
     "data": {
      "image/png": "[encoded data removed]",
      "text/plain": [
       "<Figure size 640x480 with 1 Axes>"
      ]
     },
     "metadata": {},
     "output_type": "display_data"
    }
   ],
   "source": [
    "plt.hist(data, bins=8, color='skyblue', edgecolor='black')\n",
    "plt.xlabel('Rating')\n",
    "plt.ylabel('Frequency')\n",
    "plt.title('Histogram of Ratings')\n",
    "plt.show()"
   ]
  },
  {
   "cell_type": "markdown",
   "id": "4796d47f",
   "metadata": {},
   "source": [
    "From the histogram, it is visible that the most number of ratings of the products of this company were in between 4.00 to 4.25."
   ]
  }
 ],
 "metadata": {
  "kernelspec": {
   "display_name": "Python 3 (ipykernel)",
   "language": "python",
   "name": "python3"
  },
  "language_info": {
   "codemirror_mode": {
    "name": "ipython",
    "version": 3
   },
   "file_extension": ".py",
   "mimetype": "text/x-python",
   "name": "python",
   "nbconvert_exporter": "python",
   "pygments_lexer": "ipython3",
   "version": "3.11.5"
  }
 },
 "nbformat": 4,
 "nbformat_minor": 5
}
